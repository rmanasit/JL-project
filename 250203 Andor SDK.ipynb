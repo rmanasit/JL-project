{
 "cells": [
  {
   "cell_type": "code",
   "execution_count": 1,
   "id": "87b06a55",
   "metadata": {},
   "outputs": [
    {
     "name": "stdout",
     "output_type": "stream",
     "text": [
      "C:\\Users\\Kyoju\\Dropbox\\Python\n"
     ]
    }
   ],
   "source": [
    "import os\n",
    "print(os.getcwd())"
   ]
  },
  {
   "cell_type": "code",
   "execution_count": 4,
   "id": "f6eadf33",
   "metadata": {},
   "outputs": [
    {
     "name": "stdout",
     "output_type": "stream",
     "text": [
      "C:\\Program Files\\Andor SDK\\Python\\pyAndorSDK2\n"
     ]
    }
   ],
   "source": [
    "print(os.getcwd())"
   ]
  },
  {
   "cell_type": "code",
   "execution_count": 3,
   "id": "084e0123",
   "metadata": {},
   "outputs": [],
   "source": [
    "os.chdir('C:\\Program Files\\Andor SDK\\Python\\pyAndorSDK2') # change the directory"
   ]
  },
  {
   "cell_type": "code",
   "execution_count": 15,
   "id": "774ae0cc",
   "metadata": {},
   "outputs": [
    {
     "name": "stdout",
     "output_type": "stream",
     "text": [
      "Processing c:\\program files\\andor sdk\\python\\pyandorsdk2\n",
      "Requirement already satisfied: cffi in c:\\users\\kyoju\\anaconda3\\lib\\site-packages (from pyAndorSDK2==1.2.0) (1.14.5)\n",
      "Requirement already satisfied: numpy==1.19.3 in c:\\users\\kyoju\\anaconda3\\lib\\site-packages (from pyAndorSDK2==1.2.0) (1.19.3)\n",
      "Requirement already satisfied: pycparser in c:\\users\\kyoju\\anaconda3\\lib\\site-packages (from cffi->pyAndorSDK2==1.2.0) (2.20)\n",
      "Building wheels for collected packages: pyAndorSDK2\n",
      "  Building wheel for pyAndorSDK2 (setup.py): started\n",
      "  Building wheel for pyAndorSDK2 (setup.py): finished with status 'done'\n",
      "  Created wheel for pyAndorSDK2: filename=pyAndorSDK2-1.2.0-py3-none-any.whl size=80071 sha256=ae99bf2f6069c04194f9878a19b18dc19d3f6205461a9e401829a7a5d38b51b6\n",
      "  Stored in directory: C:\\Users\\Kyoju\\AppData\\Local\\Temp\\pip-ephem-wheel-cache-v1ovskyl\\wheels\\97\\e9\\b5\\b3b176dd5d27c3c2cbc380a061df742f0c9ea237d425b88ada\n",
      "Successfully built pyAndorSDK2\n",
      "Installing collected packages: pyAndorSDK2\n",
      "Successfully installed pyAndorSDK2-1.2.0\n",
      "Note: you may need to restart the kernel to use updated packages.\n"
     ]
    }
   ],
   "source": [
    "pip install . --user # Do it only first time # Install the setup.py "
   ]
  },
  {
   "cell_type": "code",
   "execution_count": 10,
   "id": "6d63e11d",
   "metadata": {},
   "outputs": [
    {
     "name": "stdout",
     "output_type": "stream",
     "text": [
      "20003\n"
     ]
    }
   ],
   "source": [
    "from pyAndorSDK2 import atmcd\n",
    "\n",
    "os.environ['PATH'] += \";C:/Program Files/Andor SDK/\"  # DLL 파일 경로\n",
    "sdk = atmcd()\n",
    "ret = sdk.Initialize(\"\") \n",
    "print(ret) # 20002 성공 20003 실패"
   ]
  },
  {
   "cell_type": "code",
   "execution_count": null,
   "id": "426a99e8",
   "metadata": {},
   "outputs": [],
   "source": []
  },
  {
   "cell_type": "code",
   "execution_count": null,
   "id": "f93d37ed",
   "metadata": {},
   "outputs": [],
   "source": []
  }
 ],
 "metadata": {
  "kernelspec": {
   "display_name": "Python 3",
   "language": "python",
   "name": "python3"
  },
  "language_info": {
   "codemirror_mode": {
    "name": "ipython",
    "version": 3
   },
   "file_extension": ".py",
   "mimetype": "text/x-python",
   "name": "python",
   "nbconvert_exporter": "python",
   "pygments_lexer": "ipython3",
   "version": "3.8.8"
  }
 },
 "nbformat": 4,
 "nbformat_minor": 5
}
